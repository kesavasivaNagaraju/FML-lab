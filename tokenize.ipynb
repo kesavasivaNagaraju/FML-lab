{
  "nbformat": 4,
  "nbformat_minor": 0,
  "metadata": {
    "colab": {
      "provenance": [],
      "authorship_tag": "ABX9TyN6g2y0jDMNR39ZpK/HmuTO",
      "include_colab_link": true
    },
    "kernelspec": {
      "name": "python3",
      "display_name": "Python 3"
    },
    "language_info": {
      "name": "python"
    }
  },
  "cells": [
    {
      "cell_type": "markdown",
      "metadata": {
        "id": "view-in-github",
        "colab_type": "text"
      },
      "source": [
        "<a href=\"https://colab.research.google.com/github/kesavasivaNagaraju/FML-lab/blob/main/tokenize.ipynb\" target=\"_parent\"><img src=\"https://colab.research.google.com/assets/colab-badge.svg\" alt=\"Open In Colab\"/></a>"
      ]
    },
    {
      "cell_type": "code",
      "execution_count": 1,
      "metadata": {
        "id": "9aH_RUdLTXZQ"
      },
      "outputs": [],
      "source": [
        "sentence = \"\"\"The 'Ramayana' is an ancient Hindu epic about Rama and Sita. It is one of the two most important ancient epics of [India], the first one being the ancient Mahabharata.. The epic was originally written by sage (rishi) Valmiki of Ancient India. The book has about 24,000 verses and is divided into seven parts.\n",
        "\n",
        "The story of the Ramayana is about Prince Rama who has been exiled from his kingdom of ([Ayodhya]) with his wife Sita and his brother Lakshman. He goes on to kill [king] Ravana of Lanka in a long battle to get back his wife Sita.\n",
        "\n",
        "Seven different versions of the book are available. It has been translated into all the major languages of the world.\n",
        "\n",
        "The different parts of the Ramayana are also called books. These seven parts or books are noted below:\n",
        "\n",
        "The first book is Balakand, meaning the book of childhood.\n",
        "The second book is Ayodhyakanda, meaning the book of Ayodhya.\n",
        "The third book is Aranyakanda, meaning the book of the forests.\n",
        "The fourth book is Kishkindhakanda, meaning the book of Kishkindha.\n",
        "The fifth book is Sundarakanda, meaning the book beautiful.\n",
        "The sixth book is Yuddhakanda, meaning the book of the war.\n",
        "The seventh book is Uttarakanda, meaning the book of after events.\n",
        "There are different views about the time the Ramayana was written. Some people believe that it was written 2,500 years ago. Others think that it was written around 1,800 years ago. All agree that the book is very old and was written before the Mahabharata.\n",
        "\n",
        "The Ramayana is still very popular today. Every autumn the Ramlila (Rama play) is performed at the festival of Dassehra. A huge model of Ravana is set alight. This symbolizes the triumph of light over darkness. It is also believed that he turned in to Krishna and also many more things are believed.\n",
        "\n",
        "A Tamil version of the book was written between the 9th and 10th centuries. The writer of this book was Kamban. This version is known as Iramavataram, which means the coming of Rama. In the 16th century, Tulasidas wrote a Hindi version of Ramayana. This was named Ramacharitmanasa. Over many centuries, the story of Rama reached places in other countries like Indonesia and Malaysia. The Ramayana has been translated into most of the major languages of the world.\n",
        "\n",
        "The Ramayana was used in Ancient India for the teaching of young children. It was mainly used for acting out their Dharma so that their children knew that they were to worship the main Hindu beliefs that were: Brahman, Multiple Gods, Dharma, Samsara, and Karma.\n",
        "\n",
        "There is a series of the Ramayana played on television in major parts of India and goes into the detail of the Ramayana, if you don't like reading books.\n",
        "\n",
        "The short and basic story of the Ramayana is, a prince named Rama tries to rescue his wife from the clutch of Ravana with an army of bears and several\"vanaras\" who are kind of like apes.\n",
        "\n",
        "\"\"\""
      ]
    },
    {
      "cell_type": "code",
      "source": [
        "print(sentence)"
      ],
      "metadata": {
        "colab": {
          "base_uri": "https://localhost:8080/"
        },
        "id": "IUTPBj1GTcpm",
        "outputId": "80976b78-d5de-4dd0-8dbf-b44bb4e390dd"
      },
      "execution_count": 2,
      "outputs": [
        {
          "output_type": "stream",
          "name": "stdout",
          "text": [
            "The 'Ramayana' is an ancient Hindu epic about Rama and Sita. It is one of the two most important ancient epics of [India], the first one being the ancient Mahabharata.. The epic was originally written by sage (rishi) Valmiki of Ancient India. The book has about 24,000 verses and is divided into seven parts.\n",
            "\n",
            "The story of the Ramayana is about Prince Rama who has been exiled from his kingdom of ([Ayodhya]) with his wife Sita and his brother Lakshman. He goes on to kill [king] Ravana of Lanka in a long battle to get back his wife Sita.\n",
            "\n",
            "Seven different versions of the book are available. It has been translated into all the major languages of the world.\n",
            "\n",
            "The different parts of the Ramayana are also called books. These seven parts or books are noted below:\n",
            "\n",
            "The first book is Balakand, meaning the book of childhood.\n",
            "The second book is Ayodhyakanda, meaning the book of Ayodhya.\n",
            "The third book is Aranyakanda, meaning the book of the forests.\n",
            "The fourth book is Kishkindhakanda, meaning the book of Kishkindha.\n",
            "The fifth book is Sundarakanda, meaning the book beautiful.\n",
            "The sixth book is Yuddhakanda, meaning the book of the war.\n",
            "The seventh book is Uttarakanda, meaning the book of after events.\n",
            "There are different views about the time the Ramayana was written. Some people believe that it was written 2,500 years ago. Others think that it was written around 1,800 years ago. All agree that the book is very old and was written before the Mahabharata.\n",
            "\n",
            "The Ramayana is still very popular today. Every autumn the Ramlila (Rama play) is performed at the festival of Dassehra. A huge model of Ravana is set alight. This symbolizes the triumph of light over darkness. It is also believed that he turned in to Krishna and also many more things are believed.\n",
            "\n",
            "A Tamil version of the book was written between the 9th and 10th centuries. The writer of this book was Kamban. This version is known as Iramavataram, which means the coming of Rama. In the 16th century, Tulasidas wrote a Hindi version of Ramayana. This was named Ramacharitmanasa. Over many centuries, the story of Rama reached places in other countries like Indonesia and Malaysia. The Ramayana has been translated into most of the major languages of the world.\n",
            "\n",
            "The Ramayana was used in Ancient India for the teaching of young children. It was mainly used for acting out their Dharma so that their children knew that they were to worship the main Hindu beliefs that were: Brahman, Multiple Gods, Dharma, Samsara, and Karma.\n",
            "\n",
            "There is a series of the Ramayana played on television in major parts of India and goes into the detail of the Ramayana, if you don't like reading books.\n",
            "\n",
            "The short and basic story of the Ramayana is, a prince named Rama tries to rescue his wife from the clutch of Ravana with an army of bears and several\"vanaras\" who are kind of like apes.\n",
            "\n",
            "\n"
          ]
        }
      ]
    },
    {
      "cell_type": "code",
      "source": [
        "tokens = sentence.split()"
      ],
      "metadata": {
        "id": "uOIz_hWzTYMp"
      },
      "execution_count": 3,
      "outputs": []
    },
    {
      "cell_type": "code",
      "source": [
        "print(tokens)"
      ],
      "metadata": {
        "colab": {
          "base_uri": "https://localhost:8080/"
        },
        "id": "kdTufdgZT8Md",
        "outputId": "49e315eb-c438-48ef-b573-9f20b182f32e"
      },
      "execution_count": 4,
      "outputs": [
        {
          "output_type": "stream",
          "name": "stdout",
          "text": [
            "['The', \"'Ramayana'\", 'is', 'an', 'ancient', 'Hindu', 'epic', 'about', 'Rama', 'and', 'Sita.', 'It', 'is', 'one', 'of', 'the', 'two', 'most', 'important', 'ancient', 'epics', 'of', '[India],', 'the', 'first', 'one', 'being', 'the', 'ancient', 'Mahabharata..', 'The', 'epic', 'was', 'originally', 'written', 'by', 'sage', '(rishi)', 'Valmiki', 'of', 'Ancient', 'India.', 'The', 'book', 'has', 'about', '24,000', 'verses', 'and', 'is', 'divided', 'into', 'seven', 'parts.', 'The', 'story', 'of', 'the', 'Ramayana', 'is', 'about', 'Prince', 'Rama', 'who', 'has', 'been', 'exiled', 'from', 'his', 'kingdom', 'of', '([Ayodhya])', 'with', 'his', 'wife', 'Sita', 'and', 'his', 'brother', 'Lakshman.', 'He', 'goes', 'on', 'to', 'kill', '[king]', 'Ravana', 'of', 'Lanka', 'in', 'a', 'long', 'battle', 'to', 'get', 'back', 'his', 'wife', 'Sita.', 'Seven', 'different', 'versions', 'of', 'the', 'book', 'are', 'available.', 'It', 'has', 'been', 'translated', 'into', 'all', 'the', 'major', 'languages', 'of', 'the', 'world.', 'The', 'different', 'parts', 'of', 'the', 'Ramayana', 'are', 'also', 'called', 'books.', 'These', 'seven', 'parts', 'or', 'books', 'are', 'noted', 'below:', 'The', 'first', 'book', 'is', 'Balakand,', 'meaning', 'the', 'book', 'of', 'childhood.', 'The', 'second', 'book', 'is', 'Ayodhyakanda,', 'meaning', 'the', 'book', 'of', 'Ayodhya.', 'The', 'third', 'book', 'is', 'Aranyakanda,', 'meaning', 'the', 'book', 'of', 'the', 'forests.', 'The', 'fourth', 'book', 'is', 'Kishkindhakanda,', 'meaning', 'the', 'book', 'of', 'Kishkindha.', 'The', 'fifth', 'book', 'is', 'Sundarakanda,', 'meaning', 'the', 'book', 'beautiful.', 'The', 'sixth', 'book', 'is', 'Yuddhakanda,', 'meaning', 'the', 'book', 'of', 'the', 'war.', 'The', 'seventh', 'book', 'is', 'Uttarakanda,', 'meaning', 'the', 'book', 'of', 'after', 'events.', 'There', 'are', 'different', 'views', 'about', 'the', 'time', 'the', 'Ramayana', 'was', 'written.', 'Some', 'people', 'believe', 'that', 'it', 'was', 'written', '2,500', 'years', 'ago.', 'Others', 'think', 'that', 'it', 'was', 'written', 'around', '1,800', 'years', 'ago.', 'All', 'agree', 'that', 'the', 'book', 'is', 'very', 'old', 'and', 'was', 'written', 'before', 'the', 'Mahabharata.', 'The', 'Ramayana', 'is', 'still', 'very', 'popular', 'today.', 'Every', 'autumn', 'the', 'Ramlila', '(Rama', 'play)', 'is', 'performed', 'at', 'the', 'festival', 'of', 'Dassehra.', 'A', 'huge', 'model', 'of', 'Ravana', 'is', 'set', 'alight.', 'This', 'symbolizes', 'the', 'triumph', 'of', 'light', 'over', 'darkness.', 'It', 'is', 'also', 'believed', 'that', 'he', 'turned', 'in', 'to', 'Krishna', 'and', 'also', 'many', 'more', 'things', 'are', 'believed.', 'A', 'Tamil', 'version', 'of', 'the', 'book', 'was', 'written', 'between', 'the', '9th', 'and', '10th', 'centuries.', 'The', 'writer', 'of', 'this', 'book', 'was', 'Kamban.', 'This', 'version', 'is', 'known', 'as', 'Iramavataram,', 'which', 'means', 'the', 'coming', 'of', 'Rama.', 'In', 'the', '16th', 'century,', 'Tulasidas', 'wrote', 'a', 'Hindi', 'version', 'of', 'Ramayana.', 'This', 'was', 'named', 'Ramacharitmanasa.', 'Over', 'many', 'centuries,', 'the', 'story', 'of', 'Rama', 'reached', 'places', 'in', 'other', 'countries', 'like', 'Indonesia', 'and', 'Malaysia.', 'The', 'Ramayana', 'has', 'been', 'translated', 'into', 'most', 'of', 'the', 'major', 'languages', 'of', 'the', 'world.', 'The', 'Ramayana', 'was', 'used', 'in', 'Ancient', 'India', 'for', 'the', 'teaching', 'of', 'young', 'children.', 'It', 'was', 'mainly', 'used', 'for', 'acting', 'out', 'their', 'Dharma', 'so', 'that', 'their', 'children', 'knew', 'that', 'they', 'were', 'to', 'worship', 'the', 'main', 'Hindu', 'beliefs', 'that', 'were:', 'Brahman,', 'Multiple', 'Gods,', 'Dharma,', 'Samsara,', 'and', 'Karma.', 'There', 'is', 'a', 'series', 'of', 'the', 'Ramayana', 'played', 'on', 'television', 'in', 'major', 'parts', 'of', 'India', 'and', 'goes', 'into', 'the', 'detail', 'of', 'the', 'Ramayana,', 'if', 'you', \"don't\", 'like', 'reading', 'books.', 'The', 'short', 'and', 'basic', 'story', 'of', 'the', 'Ramayana', 'is,', 'a', 'prince', 'named', 'Rama', 'tries', 'to', 'rescue', 'his', 'wife', 'from', 'the', 'clutch', 'of', 'Ravana', 'with', 'an', 'army', 'of', 'bears', 'and', 'several\"vanaras\"', 'who', 'are', 'kind', 'of', 'like', 'apes.']\n"
          ]
        }
      ]
    },
    {
      "cell_type": "code",
      "source": [
        "print(len(tokens))"
      ],
      "metadata": {
        "colab": {
          "base_uri": "https://localhost:8080/"
        },
        "id": "4hXOxmVlUGDE",
        "outputId": "cb0d15be-9b5c-48f0-d856-424619842b6d"
      },
      "execution_count": 5,
      "outputs": [
        {
          "output_type": "stream",
          "name": "stdout",
          "text": [
            "495\n"
          ]
        }
      ]
    },
    {
      "cell_type": "code",
      "source": [
        "stokens = sentence.split('.')"
      ],
      "metadata": {
        "id": "b15kxT1mUKKH"
      },
      "execution_count": 6,
      "outputs": []
    },
    {
      "cell_type": "code",
      "source": [
        "print(stokens)"
      ],
      "metadata": {
        "colab": {
          "base_uri": "https://localhost:8080/"
        },
        "id": "AxQzjb50UWHS",
        "outputId": "3ead72c7-1146-490f-abe4-b93ce5a706d9"
      },
      "execution_count": 7,
      "outputs": [
        {
          "output_type": "stream",
          "name": "stdout",
          "text": [
            "[\"The 'Ramayana' is an ancient Hindu epic about Rama and Sita\", ' It is one of the two most important ancient epics of [India], the first one being the ancient Mahabharata', '', ' The epic was originally written by sage (rishi) Valmiki of Ancient India', ' The book has about 24,000 verses and is divided into seven parts', '\\n\\nThe story of the Ramayana is about Prince Rama who has been exiled from his kingdom of ([Ayodhya]) with his wife Sita and his brother Lakshman', ' He goes on to kill [king] Ravana of Lanka in a long battle to get back his wife Sita', '\\n\\nSeven different versions of the book are available', ' It has been translated into all the major languages of the world', '\\n\\nThe different parts of the Ramayana are also called books', ' These seven parts or books are noted below:\\n\\nThe first book is Balakand, meaning the book of childhood', '\\nThe second book is Ayodhyakanda, meaning the book of Ayodhya', '\\nThe third book is Aranyakanda, meaning the book of the forests', '\\nThe fourth book is Kishkindhakanda, meaning the book of Kishkindha', '\\nThe fifth book is Sundarakanda, meaning the book beautiful', '\\nThe sixth book is Yuddhakanda, meaning the book of the war', '\\nThe seventh book is Uttarakanda, meaning the book of after events', '\\nThere are different views about the time the Ramayana was written', ' Some people believe that it was written 2,500 years ago', ' Others think that it was written around 1,800 years ago', ' All agree that the book is very old and was written before the Mahabharata', '\\n\\nThe Ramayana is still very popular today', ' Every autumn the Ramlila (Rama play) is performed at the festival of Dassehra', ' A huge model of Ravana is set alight', ' This symbolizes the triumph of light over darkness', ' It is also believed that he turned in to Krishna and also many more things are believed', '\\n\\nA Tamil version of the book was written between the 9th and 10th centuries', ' The writer of this book was Kamban', ' This version is known as Iramavataram, which means the coming of Rama', ' In the 16th century, Tulasidas wrote a Hindi version of Ramayana', ' This was named Ramacharitmanasa', ' Over many centuries, the story of Rama reached places in other countries like Indonesia and Malaysia', ' The Ramayana has been translated into most of the major languages of the world', '\\n\\nThe Ramayana was used in Ancient India for the teaching of young children', ' It was mainly used for acting out their Dharma so that their children knew that they were to worship the main Hindu beliefs that were: Brahman, Multiple Gods, Dharma, Samsara, and Karma', \"\\n\\nThere is a series of the Ramayana played on television in major parts of India and goes into the detail of the Ramayana, if you don't like reading books\", '\\n\\nThe short and basic story of the Ramayana is, a prince named Rama tries to rescue his wife from the clutch of Ravana with an army of bears and several\"vanaras\" who are kind of like apes', '\\n\\n']\n"
          ]
        }
      ]
    },
    {
      "cell_type": "code",
      "source": [
        "print(len(stokens))"
      ],
      "metadata": {
        "colab": {
          "base_uri": "https://localhost:8080/"
        },
        "id": "pmlcgBdQUbBt",
        "outputId": "b859a5ef-5bef-4a4d-fb6e-c0b2b0e62072"
      },
      "execution_count": 8,
      "outputs": [
        {
          "output_type": "stream",
          "name": "stdout",
          "text": [
            "38\n"
          ]
        }
      ]
    },
    {
      "cell_type": "code",
      "source": [
        "pip install nltk"
      ],
      "metadata": {
        "colab": {
          "base_uri": "https://localhost:8080/"
        },
        "id": "b1zY1d_VUe65",
        "outputId": "7daf6ac7-4f8e-46e4-c0b4-03e47604e4a2"
      },
      "execution_count": 9,
      "outputs": [
        {
          "output_type": "stream",
          "name": "stdout",
          "text": [
            "Looking in indexes: https://pypi.org/simple, https://us-python.pkg.dev/colab-wheels/public/simple/\n",
            "Requirement already satisfied: nltk in /usr/local/lib/python3.10/dist-packages (3.8.1)\n",
            "Requirement already satisfied: click in /usr/local/lib/python3.10/dist-packages (from nltk) (8.1.3)\n",
            "Requirement already satisfied: joblib in /usr/local/lib/python3.10/dist-packages (from nltk) (1.2.0)\n",
            "Requirement already satisfied: regex>=2021.8.3 in /usr/local/lib/python3.10/dist-packages (from nltk) (2022.10.31)\n",
            "Requirement already satisfied: tqdm in /usr/local/lib/python3.10/dist-packages (from nltk) (4.65.0)\n"
          ]
        }
      ]
    },
    {
      "cell_type": "code",
      "source": [
        "import nltk"
      ],
      "metadata": {
        "id": "bYosg50ZU9tq"
      },
      "execution_count": 10,
      "outputs": []
    },
    {
      "cell_type": "code",
      "source": [
        "from nltk import word_tokenize,sent_tokenize"
      ],
      "metadata": {
        "id": "2_ewhhDXVCFw"
      },
      "execution_count": 12,
      "outputs": []
    },
    {
      "cell_type": "code",
      "source": [
        "nltk.download('punkt')"
      ],
      "metadata": {
        "colab": {
          "base_uri": "https://localhost:8080/"
        },
        "id": "z-TPCpesVqhk",
        "outputId": "8a4f8371-910c-4307-e533-d9ba1ccd9909"
      },
      "execution_count": 14,
      "outputs": [
        {
          "output_type": "stream",
          "name": "stderr",
          "text": [
            "[nltk_data] Downloading package punkt to /root/nltk_data...\n",
            "[nltk_data]   Unzipping tokenizers/punkt.zip.\n"
          ]
        },
        {
          "output_type": "execute_result",
          "data": {
            "text/plain": [
              "True"
            ]
          },
          "metadata": {},
          "execution_count": 14
        }
      ]
    },
    {
      "cell_type": "code",
      "source": [
        "n1 = word_tokenize(sentence)"
      ],
      "metadata": {
        "id": "7LeDe2fWVg-t"
      },
      "execution_count": 15,
      "outputs": []
    },
    {
      "cell_type": "code",
      "source": [
        "n2 = sent_tokenize(sentence)"
      ],
      "metadata": {
        "id": "GbIY-KliVxpM"
      },
      "execution_count": 16,
      "outputs": []
    },
    {
      "cell_type": "code",
      "source": [
        "from nltk.stem import PorterStemmer\n",
        "st = PorterStemmer()"
      ],
      "metadata": {
        "id": "aG2Xf__KWBNa"
      },
      "execution_count": 18,
      "outputs": []
    },
    {
      "cell_type": "code",
      "source": [
        "def Nagaraj(data):\n",
        "  stemarr = []\n",
        "  words = word_tokenize(sentence)\n",
        "  for word in words:\n",
        "       stemarr.append(st.stem(word))\n",
        "       stemarr.append(\" \")\n",
        "  return \"\".join(stemarr)\n",
        "\n"
      ],
      "metadata": {
        "id": "mtYC-Fl5XMh0"
      },
      "execution_count": 24,
      "outputs": []
    },
    {
      "cell_type": "code",
      "source": [
        "totalstemdata = Nagaraj(sentence)"
      ],
      "metadata": {
        "id": "gfUKrUj6hwfJ"
      },
      "execution_count": 23,
      "outputs": []
    },
    {
      "cell_type": "code",
      "source": [
        "print(totalstemdata)"
      ],
      "metadata": {
        "colab": {
          "base_uri": "https://localhost:8080/"
        },
        "id": "p2tzhi9Qh5TX",
        "outputId": "b85b8f37-45ec-45b7-9600-e3665911d2d8"
      },
      "execution_count": 25,
      "outputs": [
        {
          "output_type": "stream",
          "name": "stdout",
          "text": [
            "the 'ramayana ' is an ancient hindu epic about rama and sita . it is one of the two most import ancient epic of [ india ] , the first one be the ancient mahabharata .. the epic wa origin written by sage ( rishi ) valmiki of ancient india . the book ha about 24,000 vers and is divid into seven part . the stori of the ramayana is about princ rama who ha been exil from hi kingdom of ( [ ayodhya ] ) with hi wife sita and hi brother lakshman . he goe on to kill [ king ] ravana of lanka in a long battl to get back hi wife sita . seven differ version of the book are avail . it ha been translat into all the major languag of the world . the differ part of the ramayana are also call book . these seven part or book are note below : the first book is balakand , mean the book of childhood . the second book is ayodhyakanda , mean the book of ayodhya . the third book is aranyakanda , mean the book of the forest . the fourth book is kishkindhakanda , mean the book of kishkindha . the fifth book is sundarakanda , mean the book beauti . the sixth book is yuddhakanda , mean the book of the war . the seventh book is uttarakanda , mean the book of after event . there are differ view about the time the ramayana wa written . some peopl believ that it wa written 2,500 year ago . other think that it wa written around 1,800 year ago . all agre that the book is veri old and wa written befor the mahabharata . the ramayana is still veri popular today . everi autumn the ramlila ( rama play ) is perform at the festiv of dassehra . a huge model of ravana is set alight . thi symbol the triumph of light over dark . it is also believ that he turn in to krishna and also mani more thing are believ . a tamil version of the book wa written between the 9th and 10th centuri . the writer of thi book wa kamban . thi version is known as iramavataram , which mean the come of rama . in the 16th centuri , tulasida wrote a hindi version of ramayana . thi wa name ramacharitmanasa . over mani centuri , the stori of rama reach place in other countri like indonesia and malaysia . the ramayana ha been translat into most of the major languag of the world . the ramayana wa use in ancient india for the teach of young children . it wa mainli use for act out their dharma so that their children knew that they were to worship the main hindu belief that were : brahman , multipl god , dharma , samsara , and karma . there is a seri of the ramayana play on televis in major part of india and goe into the detail of the ramayana , if you do n't like read book . the short and basic stori of the ramayana is , a princ name rama tri to rescu hi wife from the clutch of ravana with an armi of bear and sever '' vanara '' who are kind of like ape . \n"
          ]
        }
      ]
    },
    {
      "cell_type": "code",
      "source": [
        "from nltk.stem import WordNetLemmatizer\n",
        "lm = WordNetLemmatizer()"
      ],
      "metadata": {
        "id": "AXCRT2b7jljX"
      },
      "execution_count": 27,
      "outputs": []
    },
    {
      "cell_type": "code",
      "source": [
        "def Nagarajlemmafunction(data):\n",
        "  lemmaarr = []\n",
        "  words = word_tokenize(sentence)\n",
        "  for word in words:\n",
        "    lemmaarr.append(lm.lemmatize(word))\n",
        "    lemmaarr.append(\" \")\n",
        "  return \"\".join(lemmaarr)\n"
      ],
      "metadata": {
        "id": "POFQWVoojLk6"
      },
      "execution_count": 28,
      "outputs": []
    },
    {
      "cell_type": "code",
      "source": [
        "nltk.download('wordnet')"
      ],
      "metadata": {
        "colab": {
          "base_uri": "https://localhost:8080/"
        },
        "id": "7PIDAWGZkKz2",
        "outputId": "03c705a0-83f5-4513-f236-aadb2201f421"
      },
      "execution_count": 30,
      "outputs": [
        {
          "output_type": "stream",
          "name": "stderr",
          "text": [
            "[nltk_data] Downloading package wordnet to /root/nltk_data...\n"
          ]
        },
        {
          "output_type": "execute_result",
          "data": {
            "text/plain": [
              "True"
            ]
          },
          "metadata": {},
          "execution_count": 30
        }
      ]
    },
    {
      "cell_type": "code",
      "source": [
        "lmdata = Nagarajlemmafunction(sentence)"
      ],
      "metadata": {
        "id": "EMikAQdykDPt"
      },
      "execution_count": 31,
      "outputs": []
    },
    {
      "cell_type": "code",
      "source": [
        "print(lmdata)"
      ],
      "metadata": {
        "colab": {
          "base_uri": "https://localhost:8080/"
        },
        "id": "PtoBr8GskDYL",
        "outputId": "5d7bd8e6-efb2-4cb2-97fd-bda4efeb758f"
      },
      "execution_count": 32,
      "outputs": [
        {
          "output_type": "stream",
          "name": "stdout",
          "text": [
            "The 'Ramayana ' is an ancient Hindu epic about Rama and Sita . It is one of the two most important ancient epic of [ India ] , the first one being the ancient Mahabharata .. The epic wa originally written by sage ( rishi ) Valmiki of Ancient India . The book ha about 24,000 verse and is divided into seven part . The story of the Ramayana is about Prince Rama who ha been exiled from his kingdom of ( [ Ayodhya ] ) with his wife Sita and his brother Lakshman . He go on to kill [ king ] Ravana of Lanka in a long battle to get back his wife Sita . Seven different version of the book are available . It ha been translated into all the major language of the world . The different part of the Ramayana are also called book . These seven part or book are noted below : The first book is Balakand , meaning the book of childhood . The second book is Ayodhyakanda , meaning the book of Ayodhya . The third book is Aranyakanda , meaning the book of the forest . The fourth book is Kishkindhakanda , meaning the book of Kishkindha . The fifth book is Sundarakanda , meaning the book beautiful . The sixth book is Yuddhakanda , meaning the book of the war . The seventh book is Uttarakanda , meaning the book of after event . There are different view about the time the Ramayana wa written . Some people believe that it wa written 2,500 year ago . Others think that it wa written around 1,800 year ago . All agree that the book is very old and wa written before the Mahabharata . The Ramayana is still very popular today . Every autumn the Ramlila ( Rama play ) is performed at the festival of Dassehra . A huge model of Ravana is set alight . This symbolizes the triumph of light over darkness . It is also believed that he turned in to Krishna and also many more thing are believed . A Tamil version of the book wa written between the 9th and 10th century . The writer of this book wa Kamban . This version is known a Iramavataram , which mean the coming of Rama . In the 16th century , Tulasidas wrote a Hindi version of Ramayana . This wa named Ramacharitmanasa . Over many century , the story of Rama reached place in other country like Indonesia and Malaysia . The Ramayana ha been translated into most of the major language of the world . The Ramayana wa used in Ancient India for the teaching of young child . It wa mainly used for acting out their Dharma so that their child knew that they were to worship the main Hindu belief that were : Brahman , Multiple Gods , Dharma , Samsara , and Karma . There is a series of the Ramayana played on television in major part of India and go into the detail of the Ramayana , if you do n't like reading book . The short and basic story of the Ramayana is , a prince named Rama try to rescue his wife from the clutch of Ravana with an army of bear and several '' vanaras '' who are kind of like ape . \n"
          ]
        }
      ]
    },
    {
      "cell_type": "code",
      "source": [],
      "metadata": {
        "id": "3wF8XTMEkeS4"
      },
      "execution_count": null,
      "outputs": []
    }
  ]
}